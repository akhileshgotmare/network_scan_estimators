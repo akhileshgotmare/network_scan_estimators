{
 "cells": [
  {
   "cell_type": "code",
   "execution_count": 52,
   "metadata": {
    "collapsed": true
   },
   "outputs": [],
   "source": [
    "import numpy as np\n",
    "import matplotlib.pyplot as plt"
   ]
  },
  {
   "cell_type": "code",
   "execution_count": 53,
   "metadata": {
    "collapsed": true
   },
   "outputs": [],
   "source": [
    "import networkx as nx"
   ]
  },
  {
   "cell_type": "code",
   "execution_count": 46,
   "metadata": {
    "collapsed": true
   },
   "outputs": [],
   "source": [
    "G = nx.read_graphml('G_10_power_3_2017-03-29-21:24.graphml')"
   ]
  },
  {
   "cell_type": "code",
   "execution_count": 49,
   "metadata": {
    "collapsed": false
   },
   "outputs": [
    {
     "data": {
      "text/plain": [
       "3003002"
      ]
     },
     "execution_count": 49,
     "metadata": {},
     "output_type": "execute_result"
    }
   ],
   "source": [
    "len(G.edges())"
   ]
  },
  {
   "cell_type": "markdown",
   "metadata": {},
   "source": [
    "## k = 100 "
   ]
  },
  {
   "cell_type": "code",
   "execution_count": 81,
   "metadata": {
    "collapsed": false
   },
   "outputs": [],
   "source": [
    "ind_100 = [27,37,67,77,87,97,107,127,147,157,167,177,197,217,227,237,307,317,327]\n",
    "\n",
    "for ind in [17]:\n",
    "    a_100 = np.load('scan_results/output_a_for_ind_=_'+str(ind)+'.npy')\n",
    "\n",
    "for ind in ind_100:\n",
    "    new_a = np.load('scan_results/output_a_for_ind_=_'+str(ind)+'.npy')\n",
    "    a_100 = np.hstack((a_100,new_a))\n",
    "\n",
    "    \n",
    "    "
   ]
  },
  {
   "cell_type": "code",
   "execution_count": 82,
   "metadata": {
    "collapsed": false
   },
   "outputs": [
    {
     "data": {
      "text/plain": [
       "100"
      ]
     },
     "execution_count": 82,
     "metadata": {},
     "output_type": "execute_result"
    }
   ],
   "source": [
    "len(a_100)"
   ]
  },
  {
   "cell_type": "code",
   "execution_count": 83,
   "metadata": {
    "collapsed": true
   },
   "outputs": [],
   "source": [
    "ind_100 = [427]\n",
    "for ind in ind_100:\n",
    "    new_a = np.load('scan_results/output_a_for_ind_=_'+str(ind)+'.npy')\n",
    "    a_100 = np.hstack((a_100,new_a))\n",
    "\n"
   ]
  },
  {
   "cell_type": "code",
   "execution_count": 84,
   "metadata": {
    "collapsed": false
   },
   "outputs": [
    {
     "data": {
      "text/plain": [
       "400"
      ]
     },
     "execution_count": 84,
     "metadata": {},
     "output_type": "execute_result"
    }
   ],
   "source": [
    "len(a_100)"
   ]
  },
  {
   "cell_type": "code",
   "execution_count": 85,
   "metadata": {
    "collapsed": true
   },
   "outputs": [],
   "source": [
    "ind_100 = [437,457]\n",
    "\n",
    "for ind in ind_100:\n",
    "    new_a = np.load('/mlodata1/network_scan_estimators/mar28_new/N_inactive_10^3/scan_results/output_a_for_ind_=_'+str(ind)+'.npy')\n",
    "    a_100 = np.hstack((a_100,new_a))"
   ]
  },
  {
   "cell_type": "code",
   "execution_count": 86,
   "metadata": {
    "collapsed": false
   },
   "outputs": [
    {
     "data": {
      "text/plain": [
       "800"
      ]
     },
     "execution_count": 86,
     "metadata": {},
     "output_type": "execute_result"
    }
   ],
   "source": [
    "len(a_100)"
   ]
  },
  {
   "cell_type": "code",
   "execution_count": 87,
   "metadata": {
    "collapsed": false
   },
   "outputs": [
    {
     "data": {
      "image/png": "[encoded data removed]",
      "text/plain": [
       "<matplotlib.figure.Figure at 0x7fc8de5ff588>"
      ]
     },
     "metadata": {},
     "output_type": "display_data"
    }
   ],
   "source": [
    "plt.hist(a_100,bins = 20)\n",
    "plt.show()"
   ]
  },
  {
   "cell_type": "code",
   "execution_count": 88,
   "metadata": {
    "collapsed": false,
    "scrolled": true
   },
   "outputs": [
    {
     "data": {
      "text/plain": [
       "1.7072552512369337"
      ]
     },
     "execution_count": 88,
     "metadata": {},
     "output_type": "execute_result"
    }
   ],
   "source": [
    "np.mean(a_100)"
   ]
  },
  {
   "cell_type": "code",
   "execution_count": 89,
   "metadata": {
    "collapsed": false
   },
   "outputs": [
    {
     "data": {
      "text/plain": [
       "0.048913825372979683"
      ]
     },
     "execution_count": 89,
     "metadata": {},
     "output_type": "execute_result"
    }
   ],
   "source": [
    "np.std(a_100)"
   ]
  },
  {
   "cell_type": "code",
   "execution_count": 90,
   "metadata": {
    "collapsed": false
   },
   "outputs": [
    {
     "data": {
      "text/plain": [
       "800"
      ]
     },
     "execution_count": 90,
     "metadata": {},
     "output_type": "execute_result"
    }
   ],
   "source": [
    "len(a_100)"
   ]
  },
  {
   "cell_type": "markdown",
   "metadata": {},
   "source": [
    "# k = 500"
   ]
  },
  {
   "cell_type": "code",
   "execution_count": 91,
   "metadata": {
    "collapsed": true
   },
   "outputs": [],
   "source": [
    "ind_500 = [1,11]"
   ]
  },
  {
   "cell_type": "code",
   "execution_count": 92,
   "metadata": {
    "collapsed": false
   },
   "outputs": [],
   "source": [
    "ind = 1\n",
    "a_500 = np.load('scan_results/output_a_for_ind_=_' +str(ind)+'.npy')\n",
    "ind = 11\n",
    "a_new = np.load('scan_results/output_a_for_ind_=_' +str(ind)+'.npy')\n",
    "a_500 = np.hstack((a_500,a_new))"
   ]
  },
  {
   "cell_type": "code",
   "execution_count": 93,
   "metadata": {
    "collapsed": false
   },
   "outputs": [],
   "source": [
    "list_ind = [21,31,41]\n",
    "for ind in list_ind:\n",
    "    a_new = np.load('/mlodata1/network_scan_estimators/mar28_new/N_inactive_10^3/scan_results/output_a_for_ind_=_' +str(ind)+'.npy')\n",
    "    a_500 = np.hstack((a_500,a_new))"
   ]
  },
  {
   "cell_type": "code",
   "execution_count": 94,
   "metadata": {
    "collapsed": false
   },
   "outputs": [
    {
     "data": {
      "text/plain": [
       "600"
      ]
     },
     "execution_count": 94,
     "metadata": {},
     "output_type": "execute_result"
    }
   ],
   "source": [
    "len(a_500)"
   ]
  },
  {
   "cell_type": "code",
   "execution_count": 95,
   "metadata": {
    "collapsed": true
   },
   "outputs": [],
   "source": [
    "ind = 51\n",
    "a_new = np.load('scan_results/output_a_for_ind_=_' +str(ind)+'.npy')\n",
    "a_500 = np.hstack((a_500,a_new))"
   ]
  },
  {
   "cell_type": "code",
   "execution_count": 96,
   "metadata": {
    "collapsed": false
   },
   "outputs": [
    {
     "data": {
      "text/plain": [
       "800"
      ]
     },
     "execution_count": 96,
     "metadata": {},
     "output_type": "execute_result"
    }
   ],
   "source": [
    "len(a_500)"
   ]
  },
  {
   "cell_type": "code",
   "execution_count": 97,
   "metadata": {
    "collapsed": false
   },
   "outputs": [
    {
     "data": {
      "image/png": "[encoded data removed]",
      "text/plain": [
       "<matplotlib.figure.Figure at 0x7fc8dec5f438>"
      ]
     },
     "metadata": {},
     "output_type": "display_data"
    }
   ],
   "source": [
    "plt.hist(a_500,bins = 20)\n",
    "plt.show()"
   ]
  },
  {
   "cell_type": "code",
   "execution_count": 98,
   "metadata": {
    "collapsed": false
   },
   "outputs": [
    {
     "data": {
      "text/plain": [
       "1.9191458624041979"
      ]
     },
     "execution_count": 98,
     "metadata": {},
     "output_type": "execute_result"
    }
   ],
   "source": [
    "np.mean(a_500)"
   ]
  },
  {
   "cell_type": "code",
   "execution_count": 99,
   "metadata": {
    "collapsed": false,
    "scrolled": true
   },
   "outputs": [
    {
     "data": {
      "text/plain": [
       "0.034127208726622726"
      ]
     },
     "execution_count": 99,
     "metadata": {},
     "output_type": "execute_result"
    }
   ],
   "source": [
    "np.std(a_500)"
   ]
  },
  {
   "cell_type": "markdown",
   "metadata": {
    "collapsed": true
   },
   "source": [
    "# k = 1000"
   ]
  },
  {
   "cell_type": "code",
   "execution_count": 100,
   "metadata": {
    "collapsed": true
   },
   "outputs": [],
   "source": [
    "ind_1000 = [3,28,38,48,8,9,68,78]\n",
    "\n",
    "ind = 2\n",
    "\n",
    "a_1000 = np.load('scan_results/output_a_for_ind_=_'+str(ind)+'.npy')    \n",
    "\n",
    "for ind in ind_1000:\n",
    "    new_a = np.load('scan_results/output_a_for_ind_=_'+str(ind)+'.npy')\n",
    "    a_1000 = np.hstack((a_1000,new_a))"
   ]
  },
  {
   "cell_type": "code",
   "execution_count": 101,
   "metadata": {
    "collapsed": false
   },
   "outputs": [
    {
     "data": {
      "text/plain": [
       "800"
      ]
     },
     "execution_count": 101,
     "metadata": {},
     "output_type": "execute_result"
    }
   ],
   "source": [
    "len(a_1000)"
   ]
  },
  {
   "cell_type": "code",
   "execution_count": 102,
   "metadata": {
    "collapsed": false
   },
   "outputs": [
    {
     "data": {
      "text/plain": [
       "2.0330399826041736"
      ]
     },
     "execution_count": 102,
     "metadata": {},
     "output_type": "execute_result"
    }
   ],
   "source": [
    "np.mean(a_1000)"
   ]
  },
  {
   "cell_type": "code",
   "execution_count": 103,
   "metadata": {
    "collapsed": false
   },
   "outputs": [
    {
     "data": {
      "text/plain": [
       "0.031305042138052817"
      ]
     },
     "execution_count": 103,
     "metadata": {},
     "output_type": "execute_result"
    }
   ],
   "source": [
    "np.std(a_1000)"
   ]
  },
  {
   "cell_type": "code",
   "execution_count": 104,
   "metadata": {
    "collapsed": false
   },
   "outputs": [
    {
     "data": {
      "image/png": "[encoded data removed]",
      "text/plain": [
       "<matplotlib.figure.Figure at 0x7fc8debc9a90>"
      ]
     },
     "metadata": {},
     "output_type": "display_data"
    }
   ],
   "source": [
    "plt.hist(a_1000,bins = 30)\n",
    "plt.show()"
   ]
  },
  {
   "cell_type": "code",
   "execution_count": null,
   "metadata": {
    "collapsed": true
   },
   "outputs": [],
   "source": []
  },
  {
   "cell_type": "code",
   "execution_count": 119,
   "metadata": {
    "collapsed": false,
    "scrolled": true
   },
   "outputs": [
    {
     "data": {
      "image/png": "[encoded data removed]",
      "text/plain": [
       "<matplotlib.figure.Figure at 0x7fc8dd7b3438>"
      ]
     },
     "metadata": {},
     "output_type": "display_data"
    }
   ],
   "source": [
    "color1 = 'orange'\n",
    "color2 = 'blue'\n",
    "color3 = 'green'\n",
    "color4 = 'red'\n",
    "color5 = 'gray'\n",
    "\n",
    "plt.rcParams[\"figure.figsize\"] = [16,5]\n",
    "from scipy.stats import norm\n",
    "import matplotlib.mlab as mlab\n",
    "import matplotlib.pyplot as plt\n",
    "\n",
    "(mu,sigma) = norm.fit(a_100)\n",
    "n, bins, patches = plt.hist(a_100, 60, facecolor=color1, alpha=0.5,label = 'k = 50',normed=1)\n",
    "plt.axvline(2, color='k', linestyle='solid', linewidth=5,label = 'true value of $a$')\n",
    "y = mlab.normpdf( bins, mu, sigma)\n",
    "plt.xlim(1.4,2.4)\n",
    "l = plt.plot(bins, y, 'orange',linestyle='dashed', linewidth=2)\n",
    "plt.grid(True)\n",
    "\n",
    "(mu,sigma) = norm.fit(a_500)\n",
    "n, bins, patches = plt.hist(a_500, 60,  facecolor=color2, alpha=0.5,label = 'k = 100',normed=1)#normed=1,\n",
    "y = mlab.normpdf( bins, mu, sigma)\n",
    "l = plt.plot(bins, y, 'b--', linewidth=2)\n",
    "plt.grid(True)\n",
    "\n",
    "(mu,sigma) = norm.fit(a_1000)\n",
    "n, bins, patches = plt.hist(a_1000, 60, facecolor=color3, alpha=0.5,label = 'k = 150',normed=1)\n",
    "y = mlab.normpdf( bins, mu, sigma)\n",
    "l = plt.plot(bins, y, color = color3,linestyle = 'dashed', linewidth=2)\n",
    "plt.grid(True)\n",
    "\n",
    "\n",
    "plt.legend(loc='upper left')\n",
    "\n",
    "plt.annotate('$k = 100$', rotation=90, xy=(a_100.mean(), 0), xytext=(a_100.mean(), -1),\n",
    "            arrowprops=dict(facecolor='orange', shrink=0.05),\n",
    "            )\n",
    "\n",
    "plt.annotate('$k = 500$', rotation=90, xy=(a_500.mean(), 0), xytext=(a_500.mean(), -1),\n",
    "            arrowprops=dict(facecolor='blue', shrink=0.05),\n",
    "            )\n",
    "\n",
    "\n",
    "plt.annotate('$k = 1000$', rotation=90, xy=(a_1000.mean(), 0), xytext=(a_1000.mean().mean(), -1),\n",
    "            arrowprops=dict(facecolor='green', shrink=0.05),\n",
    "            )\n",
    "\n",
    "\n",
    "\n",
    "\n",
    "plt.xlabel('estimate value',labelpad=30)\n",
    "plt.ylabel('Relative frequency')\n",
    "\n",
    "#$\\mu_{k = 300}$\n",
    "plt.tight_layout()\n",
    "plt.xlim(1.5,2.2)\n",
    "\n",
    "plt.savefig('arti_hist_results.png',format = 'png', dpi=1000,  bbox_inches='tight')\n",
    "plt.savefig('arti_hist_results.pdf', format='pdf', dpi=1000 , bbox_inches='tight') #, pdf, ps, eps )\n",
    "plt.savefig('arti_hist_results.eps', format='eps', dpi=1000, bbox_inches='tight')\n",
    "plt.show()\n",
    "\n"
   ]
  },
  {
   "cell_type": "code",
   "execution_count": 120,
   "metadata": {
    "collapsed": false
   },
   "outputs": [
    {
     "data": {
      "text/plain": [
       "'/home/gotmare/network_scan_estimators/mar28_new/N_inactive_10^3'"
      ]
     },
     "execution_count": 120,
     "metadata": {},
     "output_type": "execute_result"
    }
   ],
   "source": [
    "pwd"
   ]
  },
  {
   "cell_type": "markdown",
   "metadata": {},
   "source": [
    "# k = 2000"
   ]
  },
  {
   "cell_type": "code",
   "execution_count": 109,
   "metadata": {
    "collapsed": false
   },
   "outputs": [],
   "source": [
    "ind_2000 = [4,5]\n",
    "\n",
    "ind = 4\n",
    "a = np.load('scan_results/output_a_for_ind_=_'+str(ind)+'.npy')    \n",
    "\n",
    "ind = 5\n",
    "a_new = np.load('scan_results/output_a_for_ind_=_'+str(ind)+'.npy')    \n",
    "\n",
    "a_2000 = np.hstack((a,a_new))"
   ]
  },
  {
   "cell_type": "code",
   "execution_count": 110,
   "metadata": {
    "collapsed": false
   },
   "outputs": [
    {
     "data": {
      "text/plain": [
       "100"
      ]
     },
     "execution_count": 110,
     "metadata": {},
     "output_type": "execute_result"
    }
   ],
   "source": [
    "len(a_2000)"
   ]
  },
  {
   "cell_type": "code",
   "execution_count": 111,
   "metadata": {
    "collapsed": false
   },
   "outputs": [
    {
     "name": "stdout",
     "output_type": "stream",
     "text": [
      "4.28116264682 0.0237218746697\n"
     ]
    }
   ],
   "source": [
    "print(np.mean(a_2000),np.std(a_2000))"
   ]
  },
  {
   "cell_type": "code",
   "execution_count": 112,
   "metadata": {
    "collapsed": false
   },
   "outputs": [
    {
     "data": {
      "text/plain": [
       "array([ 4.31319069,  4.27795087,  4.28983401,  4.30592387,  4.27680452,\n",
       "        4.29101058,  4.28640261,  4.30170769,  4.29169959,  4.29750687,\n",
       "        4.2654546 ,  4.29336834,  4.29550427,  4.36235891,  4.31948546,\n",
       "        4.25687632,  4.30402499,  4.2754795 ,  4.2957268 ,  4.26667973,\n",
       "        4.27827068,  4.25272674,  4.30430467,  4.32677151,  4.2877281 ,\n",
       "        4.30113756,  4.2776449 ,  4.26815452,  4.31062606,  4.30387715,\n",
       "        4.28195813,  4.28413914,  4.29921098,  4.30800152,  4.32044062,\n",
       "        4.32707366,  4.27681351,  4.27657171,  4.29176888,  4.29453816,\n",
       "        4.29692679,  4.29897775,  4.26986277,  4.26632942,  4.29099582,\n",
       "        4.26670699,  4.28534999,  4.28556309,  4.25411674,  4.27731785,\n",
       "        4.27927936,  4.2577644 ,  4.22551804,  4.22698581,  4.28768287,\n",
       "        4.25733142,  4.27640449,  4.2509857 ,  4.26442818,  4.21889314,\n",
       "        4.26136751,  4.26042551,  4.27278703,  4.2774741 ,  4.2738855 ,\n",
       "        4.29727337,  4.29024296,  4.25720495,  4.29054909,  4.23739307,\n",
       "        4.2680734 ,  4.28077823,  4.25130004,  4.26888402,  4.24839956,\n",
       "        4.26305903,  4.27801091,  4.29690989,  4.24700549,  4.28631719,\n",
       "        4.28660655,  4.32500261,  4.26823764,  4.26333697,  4.28588305,\n",
       "        4.28229057,  4.24590209,  4.25484966,  4.32098101,  4.31348946,\n",
       "        4.26141796,  4.28123471,  4.31440741,  4.28906393,  4.2459903 ,\n",
       "        4.25878327,  4.28687122,  4.26858675,  4.29054253,  4.28927711])"
      ]
     },
     "execution_count": 112,
     "metadata": {},
     "output_type": "execute_result"
    }
   ],
   "source": [
    "a_2000"
   ]
  },
  {
   "cell_type": "code",
   "execution_count": 44,
   "metadata": {
    "collapsed": false
   },
   "outputs": [
    {
     "data": {
      "image/png": "[encoded data removed]",
      "text/plain": [
       "<matplotlib.figure.Figure at 0x7fbc7228e470>"
      ]
     },
     "metadata": {},
     "output_type": "display_data"
    }
   ],
   "source": [
    "plt.hist(a_2000,bins = 10)\n",
    "plt.show()"
   ]
  },
  {
   "cell_type": "code",
   "execution_count": null,
   "metadata": {
    "collapsed": true
   },
   "outputs": [],
   "source": []
  }
 ],
 "metadata": {
  "kernelspec": {
   "display_name": "Python 3",
   "language": "python",
   "name": "python3"
  },
  "language_info": {
   "codemirror_mode": {
    "name": "ipython",
    "version": 3
   },
   "file_extension": ".py",
   "mimetype": "text/x-python",
   "name": "python",
   "nbconvert_exporter": "python",
   "pygments_lexer": "ipython3",
   "version": "3.6.0"
  }
 },
 "nbformat": 4,
 "nbformat_minor": 2
}
