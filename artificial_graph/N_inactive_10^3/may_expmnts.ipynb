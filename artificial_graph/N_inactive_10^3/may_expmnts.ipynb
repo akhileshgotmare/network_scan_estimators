{
 "cells": [
  {
   "cell_type": "code",
   "execution_count": 2,
   "metadata": {
    "collapsed": true
   },
   "outputs": [],
   "source": [
    "import numpy as np\n",
    "import matplotlib.pyplot as plt\n",
    "import networkx as nx\n",
    "import networkx as nx\n",
    "import time\n",
    "import sys\n"
   ]
  },
  {
   "cell_type": "code",
   "execution_count": 106,
   "metadata": {
    "collapsed": false
   },
   "outputs": [
    {
     "data": {
      "text/plain": [
       "971088"
      ]
     },
     "execution_count": 106,
     "metadata": {},
     "output_type": "execute_result"
    }
   ],
   "source": [
    "p = 0.03 #probability of a node being labeled '0', to be tried: p = [0.4,0.5,0.6,0.7]\n",
    "N = 1000000 + 1000 #len(G.nodes()) #10^6 + 10^3\n",
    "global labels\n",
    "labels_r = np.random.random((N))\n",
    "labels = np.ones(labels_r.shape) \n",
    "labels[labels_r <= p] = 0 \n",
    "sum(labels == 1)\n"
   ]
  },
  {
   "cell_type": "code",
   "execution_count": 7,
   "metadata": {
    "collapsed": false
   },
   "outputs": [
    {
     "name": "stdout",
     "output_type": "stream",
     "text": [
      "all nodes added\n",
      "all edges added\n"
     ]
    }
   ],
   "source": [
    "# Script to create a Graph with N_active = 10^6, N_inactive = 10^3\n",
    "# Each node in the small subgraph connected to 3 random nodes in the same subgraph\n",
    "# Each node in the bigger subgraph connected to 3 random nodes in the same subgraph\n",
    "\n",
    "import numpy as np\n",
    "import networkx as nx\n",
    "import matplotlib.pyplot as plt\n",
    "import random\n",
    "import time\n",
    "\n",
    "import sys\n",
    "sys.path.insert(0,'/Users/akhileshgotmare/Desktop/Git_Junta/network_scan_estimators')\n",
    "\n",
    "from scanestimators import *\n",
    "\n",
    "\"\"\"\n",
    "[0:N_active] - active group resides here\n",
    "[N_active:N] - inactive group here! \n",
    "\n",
    "\"\"\"\n",
    "\n",
    "\"\"\" Build the graph with N_active and N_inactive number of nodes\"\"\"\n",
    "\n",
    "G = nx.Graph()\n",
    "N_active = 1000000\n",
    "N_inactive = 1000\n",
    "N = N_active + N_inactive\n",
    "L = list(np.arange(N))\n",
    "G.add_nodes_from(L)\n",
    "print('all nodes added')\n",
    "\n",
    "c = list(np.random.randint(0,N_active,3*N_active))\n",
    "d = np.arange(0,N_active)\n",
    "d1 = list(np.hstack((d,d,d)))\n",
    "\n",
    "G.add_edges_from(list(zip(c,d1)))\n",
    "\n",
    "b = list(np.random.randint(N_active, (N), 3*N_inactive))\n",
    "a = np.arange(N_active, (N))\n",
    "a1 = list(np.hstack((a,a,a)))\n",
    "\n",
    "G.add_edges_from(list(zip(a1,b))) \n",
    "\n",
    "print('all edges added')\n",
    "\n",
    "L1 = list(np.arange(0,N_active))\n",
    "L2 = list(np.arange(N_active,N))\n",
    "for j in np.random.choice(L2,20):\n",
    "    v = np.random.choice(L1)\n",
    "    G.add_edge(j,v)\n",
    "    \n",
    "date_string = time.strftime(\"%Y-%m-%d-%H:%M\")\n",
    "\n",
    "nx.write_graphml(G,'G_10_power_3' + date_string + \".graphml\")"
   ]
  },
  {
   "cell_type": "code",
   "execution_count": 107,
   "metadata": {
    "collapsed": true
   },
   "outputs": [],
   "source": [
    "nodes_list = np.array(G.nodes())\n",
    "zeros_list = (nodes_list[labels[G.nodes()] == 0])\n",
    "global color\n",
    "global community\n",
    "community = [set() for _ in range(N)]\n",
    "color = ['white']*len(nodes_list)\n",
    "\n",
    "def dfs(graph, start):\n",
    "    visited, stack = set(), [start]\n",
    "    while stack:\n",
    "        vertex = stack.pop()\n",
    "        if vertex not in visited and labels[vertex] == 0:\n",
    "            #print(vertex)\n",
    "            color[vertex] = 'gray'\n",
    "            visited.add(vertex)\n",
    "            stack.extend(set(graph.neighbors(vertex)) - visited)\n",
    "            color[vertex] = 'black'\n",
    "    return visited\n"
   ]
  },
  {
   "cell_type": "code",
   "execution_count": 108,
   "metadata": {
    "collapsed": true
   },
   "outputs": [
    {
     "name": "stdout",
     "output_type": "stream",
     "text": [
      "7000\n",
      "52000\n",
      "76000\n",
      "143000\n",
      "183000\n",
      "192000\n",
      "197000\n",
      "254000\n",
      "274000\n",
      "287000\n",
      "440000\n",
      "615000\n",
      "648000\n",
      "661000\n",
      "676000\n",
      "678000\n",
      "697000\n",
      "728000\n",
      "754000\n",
      "886000\n",
      "937000\n",
      "959000\n",
      "981000\n"
     ]
    }
   ],
   "source": [
    "for x in zeros_list:\n",
    "\n",
    "    visited = dfs(G,x)\n",
    "    community[x] = visited\n",
    "    if x%1000 == 0:\n",
    "        print(x)\n",
    "    "
   ]
  },
  {
   "cell_type": "code",
   "execution_count": 109,
   "metadata": {
    "collapsed": false
   },
   "outputs": [],
   "source": [
    "size_list = [len(cluster) for cluster in community]"
   ]
  },
  {
   "cell_type": "code",
   "execution_count": 89,
   "metadata": {
    "collapsed": false,
    "scrolled": true
   },
   "outputs": [
    {
     "data": {
      "text/plain": [
       "(array([   469,   1747,   1989, ..., 998028, 998113, 999582]),)"
      ]
     },
     "execution_count": 89,
     "metadata": {},
     "output_type": "execute_result"
    }
   ],
   "source": [
    "np.where(np.array(size_list) == 2429)"
   ]
  },
  {
   "cell_type": "code",
   "execution_count": 110,
   "metadata": {
    "collapsed": false,
    "scrolled": true
   },
   "outputs": [
    {
     "data": {
      "text/plain": [
       "6"
      ]
     },
     "execution_count": 110,
     "metadata": {},
     "output_type": "execute_result"
    }
   ],
   "source": [
    "np.max(size_list)"
   ]
  },
  {
   "cell_type": "code",
   "execution_count": 5,
   "metadata": {
    "collapsed": true
   },
   "outputs": [],
   "source": [
    "from helper_may import *"
   ]
  },
  {
   "cell_type": "code",
   "execution_count": 9,
   "metadata": {
    "collapsed": false
   },
   "outputs": [],
   "source": [
    "range_p = np.arange(0.01,0.24,0.01)\n"
   ]
  },
  {
   "cell_type": "code",
   "execution_count": 8,
   "metadata": {
    "collapsed": false
   },
   "outputs": [
    {
     "name": "stdout",
     "output_type": "stream",
     "text": [
      "0.01 4\n",
      "0.02 6\n",
      "0.03 7\n",
      "0.04 9\n",
      "0.05 11\n",
      "0.06 12\n",
      "0.07 16\n",
      "0.08 18\n",
      "0.09 29\n",
      "0.1 28\n",
      "0.11 51\n",
      "0.12 58\n",
      "0.13 58\n",
      "0.14 106\n",
      "0.15 118\n",
      "0.16 246\n",
      "0.17 347\n"
     ]
    }
   ],
   "source": [
    "for p in range_p:\n",
    "    max_cluster_size = give_max_cluster_size(G,p)\n",
    "    print(p,max_cluster_size)"
   ]
  },
  {
   "cell_type": "code",
   "execution_count": null,
   "metadata": {
    "collapsed": false
   },
   "outputs": [
    {
     "name": "stdout",
     "output_type": "stream",
     "text": [
      "0.01 3\n"
     ]
    }
   ],
   "source": [
    "for p in range_p:\n",
    "    max_cluster_size = give_max_cluster_size(G,p)\n",
    "    print(p,max_cluster_size)"
   ]
  },
  {
   "cell_type": "code",
   "execution_count": null,
   "metadata": {
    "collapsed": true
   },
   "outputs": [],
   "source": []
  }
 ],
 "metadata": {
  "anaconda-cloud": {},
  "kernelspec": {
   "display_name": "Python [default]",
   "language": "python",
   "name": "python3"
  },
  "language_info": {
   "codemirror_mode": {
    "name": "ipython",
    "version": 3
   },
   "file_extension": ".py",
   "mimetype": "text/x-python",
   "name": "python",
   "nbconvert_exporter": "python",
   "pygments_lexer": "ipython3",
   "version": "3.5.2"
  }
 },
 "nbformat": 4,
 "nbformat_minor": 1
}
